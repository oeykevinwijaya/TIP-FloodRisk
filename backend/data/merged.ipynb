{
 "cells": [
  {
   "cell_type": "code",
   "execution_count": 1,
   "id": "58e4da4b-1b85-408e-aae2-e36142cd63da",
   "metadata": {
    "tags": []
   },
   "outputs": [],
   "source": [
    "import pandas as pd\n",
    "\n",
    "hkdistrict_df = pd.read_csv('hkdistrict.csv')\n",
    "currentrain_df = pd.read_csv('currentrain.csv')\n",
    "\n",
    "# Merge the dataframes based on the \"Place\" column\n",
    "merged_df = pd.merge(hkdistrict_df, currentrain_df, on='Place', how='left')"
   ]
  },
  {
   "cell_type": "code",
   "execution_count": 2,
   "id": "264e4cf0-b79c-44dd-ac2a-a2534b6171d9",
   "metadata": {
    "tags": []
   },
   "outputs": [
    {
     "name": "stdout",
     "output_type": "stream",
     "text": [
      "    id                       Place                    coordinate  \\\n",
      "0    1  Central & Western District     22.28499386, 114.15072273   \n",
      "1    2            Eastern District         22.267434, 114.249063   \n",
      "2    3                  Kwai Tsing         22.344044, 114.100998   \n",
      "3    4            Islands District         22.308046, 113.918480   \n",
      "4    5              North District           22.50166, 114.12895   \n",
      "5    6                    Sai Kung           22.38333, 114.26667   \n",
      "6    7                     Sha Tin             22.3771, 114.1974   \n",
      "7    8           Southern District     22.23833238, 114.15333272   \n",
      "8    9                      Tai Po           22.45007, 114.16877   \n",
      "9   10                   Tsuen Wan           22.37137, 114.11329   \n",
      "10  11                    Tuen Mun          22.400723, 113.97157   \n",
      "11  12                    Wan Chai           22.28066, 114.18096   \n",
      "12  13                   Yuen Long  22.4400132399, 114.022146578   \n",
      "13  14               Yau Tsim Mong         22.302219, 114.174637   \n",
      "14  15                Sham Shui Po            22.33183, 114.1621   \n",
      "15  16                Kowloon City  22.3260336959, 114.186529254   \n",
      "16  17                Wong Tai Sin              22.35, 114.18333   \n",
      "17  18                   Kwun Tong  22.3038021181, 114.219602455   \n",
      "\n",
      "    Rainfall (mm)   Main  \n",
      "0              17  False  \n",
      "1               8  False  \n",
      "2              31  False  \n",
      "3              42  False  \n",
      "4               7  False  \n",
      "5              10  False  \n",
      "6              16  False  \n",
      "7               5  False  \n",
      "8              17  False  \n",
      "9              26  False  \n",
      "10             16  False  \n",
      "11              6  False  \n",
      "12             16  False  \n",
      "13              8  False  \n",
      "14             15  False  \n",
      "15             12  False  \n",
      "16             12  False  \n",
      "17              7  False  \n"
     ]
    }
   ],
   "source": [
    "print(merged_df.head(20))"
   ]
  },
  {
   "cell_type": "code",
   "execution_count": 3,
   "id": "30c27ce7-d620-4405-8d16-ea1b6ab189dd",
   "metadata": {
    "tags": []
   },
   "outputs": [],
   "source": [
    "# Save the merged DataFrame to a new CSV file\n",
    "merged_df.to_csv('rainplace.csv', index=False)"
   ]
  },
  {
   "cell_type": "code",
   "execution_count": null,
   "id": "5573352e-3b09-47df-9f13-e734254a6e67",
   "metadata": {},
   "outputs": [],
   "source": []
  }
 ],
 "metadata": {
  "kernelspec": {
   "display_name": "Python 3 (ipykernel)",
   "language": "python",
   "name": "python3"
  },
  "language_info": {
   "codemirror_mode": {
    "name": "ipython",
    "version": 3
   },
   "file_extension": ".py",
   "mimetype": "text/x-python",
   "name": "python",
   "nbconvert_exporter": "python",
   "pygments_lexer": "ipython3",
   "version": "3.11.5"
  }
 },
 "nbformat": 4,
 "nbformat_minor": 5
}
