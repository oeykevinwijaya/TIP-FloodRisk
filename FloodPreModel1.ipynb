{
 "cells": [
  {
   "cell_type": "code",
   "execution_count": 25,
   "id": "87878f51-cec0-416f-b1b3-1530e4d72e4e",
   "metadata": {
    "tags": []
   },
   "outputs": [
    {
     "name": "stdout",
     "output_type": "stream",
     "text": [
      "         Date  Rainfall  Hourly rainfall  Flood  Max Temperature  \\\n",
      "0  1884-03-01       0.0              0.0    0.0             18.6   \n",
      "1  1884-03-02       0.0              0.0    0.0             21.7   \n",
      "2  1884-03-03       0.0              0.0    0.0             21.1   \n",
      "3  1884-03-04       0.0              0.0    0.0             17.8   \n",
      "4  1884-03-05       0.0              0.0    0.0             15.5   \n",
      "\n",
      "   Min Temperature   Humidity  amount of cloud  Temp Range  \n",
      "0             14.6  78.154847             75.0         4.0  \n",
      "1             14.4  78.154847             75.0         7.3  \n",
      "2             14.2  78.154847             75.0         6.9  \n",
      "3             14.7  78.154847             75.0         3.1  \n",
      "4             14.1  78.154847             75.0         1.4  \n"
     ]
    }
   ],
   "source": [
    "import pandas as pd\n",
    "\n",
    "# Load cleaned data\n",
    "df = pd.read_csv('backend/data/final_cleaned_data.csv')\n",
    "print(df.head())\n"
   ]
  },
  {
   "cell_type": "code",
   "execution_count": 26,
   "id": "3ec5b1c0-2aef-4a56-984c-0b29b9bf9e90",
   "metadata": {
    "tags": []
   },
   "outputs": [
    {
     "name": "stdout",
     "output_type": "stream",
     "text": [
      "           Rainfall  Hourly rainfall         Flood  Max Temperature  \\\n",
      "count  48608.000000     48608.000000  48608.000000     48608.000000   \n",
      "mean       6.143585         0.008472      0.000535        25.419653   \n",
      "std       20.150163         1.091128      0.023122         5.421758   \n",
      "min        0.000000         0.000000      0.000000         3.200000   \n",
      "25%        0.000000         0.000000      0.000000        21.100000   \n",
      "50%        0.010000         0.000000      0.000000        26.400000   \n",
      "75%        1.900000         0.000000      0.000000        30.100000   \n",
      "max      534.100000       158.100000      1.000000        36.600000   \n",
      "\n",
      "       Min Temperature      Humidity  amount of cloud    Temp Range  \n",
      "count     48608.000000  48608.000000     48608.000000  48608.000000  \n",
      "mean         20.758797     78.154847        70.445276      4.660856  \n",
      "std           5.288798      8.373331        19.841918      1.645104  \n",
      "min           0.000000     21.000000         0.000000      0.600000  \n",
      "25%          16.600000     78.000000        70.000000      3.500000  \n",
      "50%          21.900000     78.154847        75.000000      4.600000  \n",
      "75%          25.300000     81.000000        79.000000      5.700000  \n",
      "max          30.100000     99.000000       100.000000     15.000000  \n",
      "Flood\n",
      "0.0    48582\n",
      "1.0       26\n",
      "Name: count, dtype: int64\n"
     ]
    }
   ],
   "source": [
    "print(df.describe())\n",
    "print(df['Flood'].value_counts())  # Check the distribution of the target variable\n"
   ]
  },
  {
   "cell_type": "code",
   "execution_count": 27,
   "id": "01732063-bbb6-447e-a990-401bbf5168ce",
   "metadata": {
    "tags": []
   },
   "outputs": [
    {
     "name": "stdout",
     "output_type": "stream",
     "text": [
      "         Date  Rainfall  Hourly rainfall  Flood  Max Temperature  \\\n",
      "0  1884-03-01       0.0              0.0    0.0             18.6   \n",
      "1  1884-03-02       0.0              0.0    0.0             21.7   \n",
      "2  1884-03-03       0.0              0.0    0.0             21.1   \n",
      "3  1884-03-04       0.0              0.0    0.0             17.8   \n",
      "4  1884-03-05       0.0              0.0    0.0             15.5   \n",
      "\n",
      "   Min Temperature   Humidity  amount of cloud  Temp Range  \n",
      "0             14.6  78.154847             75.0         4.0  \n",
      "1             14.4  78.154847             75.0         7.3  \n",
      "2             14.2  78.154847             75.0         6.9  \n",
      "3             14.7  78.154847             75.0         3.1  \n",
      "4             14.1  78.154847             75.0         1.4  \n"
     ]
    },
    {
     "name": "stderr",
     "output_type": "stream",
     "text": [
      "/var/folders/nk/wzcjy06d0kz0t75b5z7_k1w00000gn/T/ipykernel_46957/2562585287.py:6: FutureWarning: Series.fillna with 'method' is deprecated and will raise in a future version. Use obj.ffill() or obj.bfill() instead.\n",
      "  df['Rainfall'] = df['Rainfall'].fillna(method='ffill').fillna(method='bfill')\n"
     ]
    }
   ],
   "source": [
    "import pandas as pd\n",
    "import numpy as np\n",
    "\n",
    "# Assuming 'daily rainfall' might have NaN values\n",
    "# Fill missing values with forward fill followed by backward fill as a fallback\n",
    "df['Rainfall'] = df['Rainfall'].fillna(method='ffill').fillna(method='bfill')\n",
    "\n",
    "# Create a rolling sum of the past 3 days, adjusting min_periods\n",
    "#df['rolling_3day_rainfall'] = df['Daily rainfall'].rolling(window=3, min_periods=1).sum()\n",
    "\n",
    "#df['high_rainfall'] = (df['Rainfall'] > 249).astype(int)\n",
    "\n",
    "\n",
    "# Quick check to see how the data looks now\n",
    "print(df.head())"
   ]
  },
  {
   "cell_type": "code",
   "execution_count": 28,
   "id": "c3bfec97-c155-4689-ac5a-253e45428e3e",
   "metadata": {
    "tags": []
   },
   "outputs": [
    {
     "name": "stdout",
     "output_type": "stream",
     "text": [
      "   Rainfall  Flood   Humidity  Year  Month  Day  Temperature\n",
      "0       0.0    0.0  78.154847  1884      3    1        16.60\n",
      "1       0.0    0.0  78.154847  1884      3    2        18.05\n",
      "2       0.0    0.0  78.154847  1884      3    3        17.65\n",
      "3       0.0    0.0  78.154847  1884      3    4        16.25\n",
      "4       0.0    0.0  78.154847  1884      3    5        14.80\n"
     ]
    }
   ],
   "source": [
    "# Convert 'Date' column to datetime type\n",
    "df['Date'] = pd.to_datetime(df['Date'])\n",
    "\n",
    "# Extract year, month, and day as separate features\n",
    "df['Year'] = df['Date'].dt.year\n",
    "df['Month'] = df['Date'].dt.month\n",
    "df['Day'] = df['Date'].dt.day\n",
    "\n",
    "# Calculate the mean temperature\n",
    "df['Temperature'] = (df['Max Temperature'] + df['Min Temperature']) / 2\n",
    "\n",
    "# drop the original 'Date' column if not use it directly\n",
    "df = df.drop('Date', axis=1)\n",
    "\n",
    "df = df.drop(columns=['Hourly rainfall'])\n",
    "df = df.drop(columns=['Temp Range'])\n",
    "df = df.drop(columns=['amount of cloud'])\n",
    "df = df.drop(columns=['Max Temperature'])\n",
    "df = df.drop(columns=['Min Temperature'])\n",
    "\n",
    "\n",
    "\n",
    "print(df.head())\n"
   ]
  },
  {
   "cell_type": "code",
   "execution_count": 29,
   "id": "ae0da994-d5a8-46b7-a8d0-c40799c82e22",
   "metadata": {},
   "outputs": [
    {
     "name": "stdout",
     "output_type": "stream",
     "text": [
      "Non-numeric columns: Index([], dtype='object')\n",
      "   Rainfall  Flood   Humidity  Year  Month  Day  Temperature\n",
      "0       0.0    0.0  78.154847  1884      3    1        16.60\n",
      "1       0.0    0.0  78.154847  1884      3    2        18.05\n",
      "2       0.0    0.0  78.154847  1884      3    3        17.65\n",
      "3       0.0    0.0  78.154847  1884      3    4        16.25\n",
      "4       0.0    0.0  78.154847  1884      3    5        14.80\n"
     ]
    }
   ],
   "source": [
    "# Check for any non-numeric columns\n",
    "non_numeric_columns = df.select_dtypes(include=['object']).columns\n",
    "print(\"Non-numeric columns:\", non_numeric_columns)\n",
    "\n",
    "# If any categorical data is present, convert it using one-hot encoding\n",
    "if not non_numeric_columns.empty:\n",
    "    df = pd.get_dummies(df, columns=non_numeric_columns)\n",
    "\n",
    "print(df.head())\n",
    "\n",
    "df.to_csv('backend/data/training_df.csv', index=False)\n"
   ]
  },
  {
   "cell_type": "code",
   "execution_count": 30,
   "id": "a64c07cc-7c65-4927-9366-5a51b15ff34d",
   "metadata": {
    "tags": []
   },
   "outputs": [
    {
     "name": "stdout",
     "output_type": "stream",
     "text": [
      "Accuracy: 0.9995885620242748\n",
      "              precision    recall  f1-score   support\n",
      "\n",
      "         0.0       1.00      1.00      1.00      9717\n",
      "         1.0       1.00      0.20      0.33         5\n",
      "\n",
      "    accuracy                           1.00      9722\n",
      "   macro avg       1.00      0.60      0.67      9722\n",
      "weighted avg       1.00      1.00      1.00      9722\n",
      "\n"
     ]
    }
   ],
   "source": [
    "from sklearn.ensemble import RandomForestClassifier\n",
    "from sklearn.model_selection import train_test_split\n",
    "from sklearn.metrics import classification_report, accuracy_score\n",
    "\n",
    "# Split the data into features and target variable\n",
    "X = df.drop('Flood', axis=1)\n",
    "y = df['Flood']\n",
    "\n",
    "# Split the data into training and test sets\n",
    "X_train, X_test, y_train, y_test = train_test_split(X, y, test_size=0.2, random_state=42, stratify=y)\n",
    "\n",
    "# Initialize and train the RandomForest Classifier\n",
    "rf = RandomForestClassifier(n_estimators=100, random_state=42)\n",
    "rf.fit(X_train, y_train)\n",
    "\n",
    "# Predict on the test set\n",
    "y_pred = rf.predict(X_test)\n",
    "\n",
    "# Evaluate the model\n",
    "print(\"Accuracy:\", accuracy_score(y_test, y_pred))\n",
    "print(classification_report(y_test, y_pred))\n"
   ]
  },
  {
   "cell_type": "code",
   "execution_count": 31,
   "id": "a64a461a-ce82-4c7c-b342-8429e43bbae1",
   "metadata": {},
   "outputs": [
    {
     "name": "stdout",
     "output_type": "stream",
     "text": [
      "Balanced Model Accuracy: 0.9994857025303435\n",
      "              precision    recall  f1-score   support\n",
      "\n",
      "         0.0       1.00      1.00      1.00      9717\n",
      "         1.0       0.00      0.00      0.00         5\n",
      "\n",
      "    accuracy                           1.00      9722\n",
      "   macro avg       0.50      0.50      0.50      9722\n",
      "weighted avg       1.00      1.00      1.00      9722\n",
      "\n"
     ]
    },
    {
     "name": "stderr",
     "output_type": "stream",
     "text": [
      "/Users/mac/anaconda3/lib/python3.11/site-packages/sklearn/metrics/_classification.py:1509: UndefinedMetricWarning: Precision is ill-defined and being set to 0.0 in labels with no predicted samples. Use `zero_division` parameter to control this behavior.\n",
      "  _warn_prf(average, modifier, f\"{metric.capitalize()} is\", len(result))\n",
      "/Users/mac/anaconda3/lib/python3.11/site-packages/sklearn/metrics/_classification.py:1509: UndefinedMetricWarning: Precision is ill-defined and being set to 0.0 in labels with no predicted samples. Use `zero_division` parameter to control this behavior.\n",
      "  _warn_prf(average, modifier, f\"{metric.capitalize()} is\", len(result))\n",
      "/Users/mac/anaconda3/lib/python3.11/site-packages/sklearn/metrics/_classification.py:1509: UndefinedMetricWarning: Precision is ill-defined and being set to 0.0 in labels with no predicted samples. Use `zero_division` parameter to control this behavior.\n",
      "  _warn_prf(average, modifier, f\"{metric.capitalize()} is\", len(result))\n"
     ]
    }
   ],
   "source": [
    "rf_balanced = RandomForestClassifier(n_estimators=100, class_weight='balanced', random_state=42)\n",
    "rf_balanced.fit(X_train, y_train)\n",
    "y_pred_balanced = rf_balanced.predict(X_test)\n",
    "print(\"Balanced Model Accuracy:\", accuracy_score(y_test, y_pred_balanced))\n",
    "print(classification_report(y_test, y_pred_balanced))\n"
   ]
  },
  {
   "cell_type": "code",
   "execution_count": 32,
   "id": "8fbb297d-efbb-42f4-add8-9f49dfc6036b",
   "metadata": {
    "scrolled": true
   },
   "outputs": [
    {
     "name": "stdout",
     "output_type": "stream",
     "text": [
      "SMOTE Model Accuracy: 0.9995885620242748\n",
      "              precision    recall  f1-score   support\n",
      "\n",
      "         0.0       1.00      1.00      1.00      9717\n",
      "         1.0       0.57      0.80      0.67         5\n",
      "\n",
      "    accuracy                           1.00      9722\n",
      "   macro avg       0.79      0.90      0.83      9722\n",
      "weighted avg       1.00      1.00      1.00      9722\n",
      "\n"
     ]
    }
   ],
   "source": [
    "from imblearn.over_sampling import SMOTE\n",
    "\n",
    "smote = SMOTE(random_state=42)\n",
    "X_train_smote, y_train_smote = smote.fit_resample(X_train, y_train)\n",
    "\n",
    "rf_smote = RandomForestClassifier(n_estimators=100, random_state=42)\n",
    "rf_smote.fit(X_train_smote, y_train_smote)\n",
    "y_pred_smote = rf_smote.predict(X_test)\n",
    "print(\"SMOTE Model Accuracy:\", accuracy_score(y_test, y_pred_smote))\n",
    "print(classification_report(y_test, y_pred_smote))\n"
   ]
  },
  {
   "cell_type": "code",
   "execution_count": 33,
   "id": "6788bdfc-0b41-45c2-85cb-f7965dfdfdd3",
   "metadata": {
    "scrolled": true
   },
   "outputs": [
    {
     "name": "stdout",
     "output_type": "stream",
     "text": [
      "Optimal threshold by F1: 0.68\n",
      "Precision: 0.8 Recall: 0.8\n",
      "Adjusted Classification Report:\n",
      "              precision    recall  f1-score   support\n",
      "\n",
      "         0.0       1.00      1.00      1.00      9717\n",
      "         1.0       0.80      0.80      0.80         5\n",
      "\n",
      "    accuracy                           1.00      9722\n",
      "   macro avg       0.90      0.90      0.90      9722\n",
      "weighted avg       1.00      1.00      1.00      9722\n",
      "\n"
     ]
    }
   ],
   "source": [
    "from sklearn.metrics import precision_recall_curve, f1_score, auc\n",
    "\n",
    "# Get probabilities instead of binary predictions\n",
    "y_probs = rf_smote.predict_proba(X_test)[:, 1]  # Probability of class 1\n",
    "\n",
    "# Calculate precision, recall, and thresholds\n",
    "precision, recall, thresholds = precision_recall_curve(y_test, y_probs)\n",
    "\n",
    "# Determine the best threshold: can prioritise recall here\n",
    "f1_scores = 2 * (precision * recall) / (precision + recall)\n",
    "optimal_idx = np.argmax(f1_scores)\n",
    "optimal_threshold = thresholds[optimal_idx]\n",
    "\n",
    "print(\"Optimal threshold by F1:\", optimal_threshold)\n",
    "print(\"Precision:\", precision[optimal_idx], \"Recall:\", recall[optimal_idx])\n",
    "\n",
    "# Apply custom threshold to make final predictions\n",
    "y_pred_custom = (y_probs >= optimal_threshold).astype(int)\n",
    "print(\"Adjusted Classification Report:\")\n",
    "print(classification_report(y_test, y_pred_custom))\n"
   ]
  },
  {
   "cell_type": "code",
   "execution_count": 34,
   "id": "9384c916-a4b3-4128-9405-b0dc0593bdf1",
   "metadata": {},
   "outputs": [
    {
     "data": {
      "image/png": "[encoded data removed]",
      "text/plain": [
       "<Figure size 800x600 with 1 Axes>"
      ]
     },
     "metadata": {},
     "output_type": "display_data"
    },
    {
     "name": "stdout",
     "output_type": "stream",
     "text": [
      "Manual Threshold Classification Report:\n",
      "              precision    recall  f1-score   support\n",
      "\n",
      "         0.0       1.00      1.00      1.00      9717\n",
      "         1.0       0.57      0.80      0.67         5\n",
      "\n",
      "    accuracy                           1.00      9722\n",
      "   macro avg       0.79      0.90      0.83      9722\n",
      "weighted avg       1.00      1.00      1.00      9722\n",
      "\n"
     ]
    }
   ],
   "source": [
    "import matplotlib.pyplot as plt\n",
    "\n",
    "# Plot precision-recall curve\n",
    "plt.figure(figsize=(8, 6))\n",
    "plt.plot(thresholds, precision[:-1], \"b--\", label=\"Precision\")\n",
    "plt.plot(thresholds, recall[:-1], \"g-\", label=\"Recall\")\n",
    "plt.xlabel(\"Threshold\")\n",
    "plt.ylabel(\"Precision/Recall\")\n",
    "plt.title(\"Precision and Recall for Different Thresholds\")\n",
    "plt.legend()\n",
    "plt.show()\n",
    "\n",
    "# Manually select a threshold that provides a better recall\n",
    "manual_threshold = 0.51 # example value\n",
    "\n",
    "y_pred_manual = (y_probs >= manual_threshold).astype(int)\n",
    "print(\"Manual Threshold Classification Report:\")\n",
    "print(classification_report(y_test, y_pred_manual))\n"
   ]
  },
  {
   "cell_type": "code",
   "execution_count": 35,
   "id": "7a380093-947f-433f-b540-2d26425486fb",
   "metadata": {},
   "outputs": [
    {
     "data": {
      "text/plain": [
       "['backend/models/flood_prediction_model.pkl']"
      ]
     },
     "execution_count": 35,
     "metadata": {},
     "output_type": "execute_result"
    }
   ],
   "source": [
    "import joblib\n",
    "joblib.dump(rf_smote, 'backend/models/flood_prediction_model.pkl')  # Save the model\n"
   ]
  },
  {
   "cell_type": "code",
   "execution_count": null,
   "id": "c722373f-2f14-4d00-8bbb-c6be79d97830",
   "metadata": {},
   "outputs": [],
   "source": []
  }
 ],
 "metadata": {
  "kernelspec": {
   "display_name": "Python 3 (ipykernel)",
   "language": "python",
   "name": "python3"
  },
  "language_info": {
   "codemirror_mode": {
    "name": "ipython",
    "version": 3
   },
   "file_extension": ".py",
   "mimetype": "text/x-python",
   "name": "python",
   "nbconvert_exporter": "python",
   "pygments_lexer": "ipython3",
   "version": "3.11.0"
  }
 },
 "nbformat": 4,
 "nbformat_minor": 5
}
